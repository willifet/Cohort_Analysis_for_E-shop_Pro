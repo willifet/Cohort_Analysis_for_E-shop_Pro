


import numpy as np
import pandas as pd
import seaborn as sns
import matplotlib.pyplot as plt
import datetime as dt





data = pd.read_csv('../Data/Dataset_ecommerce.csv')
data.head(10)


#descriptive statistics
data.describe(include = 'all')


#Check for missing values
data.isnull().sum()


#drop missing value
data.dropna(inplace=True)


#checking more info
data.info()


#convert to Datetime format
data['InvoiceDate'] = pd.to_datetime(data['InvoiceDate'])





#Analysis by country
quantity_by_country = data.groupby(['Country'])['Quantity'].sum().reset_index()
quantity_by_country


#Arranging the country in ascending order
quantity_by_country = quantity_by_country.sort_values('Quantity', ascending=False)
quantity_by_country.head(10)


#Visualised Top_10 countries where most product sold

top_10_country = quantity_by_country.head(10)
plt.figure(figsize=(10,8))
ax = sns.barplot(x = 'Country', y = 'Quantity', data = top_10_country)
plt.xlabel('Countries')
plt.ylabel('Quantity of product sold')
plt.title('Bar chart of top 10 countries with highest purchase')
plt.show()


#To visualise the least 10 countries

least_10_country = quantity_by_country.tail(10)
plt.figure(figsize=(10,8))
ax = sns.barplot(x = 'Country', y = 'Quantity', data = least_10_country)
plt.xlabel('Countries')
plt.ylabel('Quantity of product sold')
plt.title('Bar chart of least 10 countries with lowest purchase')
plt.show()





country_to_customer = data.groupby(['Country'])['CustomerID'].nunique().reset_index()
country_to_customer = country_to_customer.sort_values('CustomerID', ascending = False).reset_index()


country_to_customer.head(3)


#Visualise top_10 countries with most No. of Customers

top_countries_to_customer = country_to_customer.head(10)

plt.figure(figsize=(10,8))
sns.barplot(x = 'Country', y = 'CustomerID', data = top_countries_to_customer)

plt.xlabel('Countries')
plt.ylabel('Total no. of customer')
plt.title('Bar chart of top 10 countries with most number of customers')
plt.show()





#Grouping sales to monthly basis by summuring up the quantity sold every month.

monthly_sales = data.groupby(data["InvoiceDate"].dt.to_period('M'))["Quantity"].sum()
monthly_sales


#Creating a Line plot
plt.figure(figsize=(10,8))
plt.plot(monthly_sales.index.strftime("%y-%m"), monthly_sales.values, marker= 'o', linestyle = '-')
plt.xlabel("Month")
plt.ylabel('Total sales')
plt.title("Monthly sales trend")
plt.grid(True)
plt.show()





data.head()


#We want to extract year and month only from the InvoiceDate column

def get_month(x):
    return dt.datetime(x.year, x.month, 1)


data["InvoiceDate"] = data["InvoiceDate"].apply(get_month)
data.head()


def get_cohort_date(data):
    data["cohort date"] = data.groupby("CustomerID")["InvoiceDate"].transform("min")
    return data["cohort date"]


#Applying the function

data["cohort date"] = get_cohort_date(data)
data





# How far away from the first purchase to the current purchase

def get_year_and_month(data, col):

    month = data[col].dt.month
    year = data[col].dt.year
    return month, year


first_month, first_year = get_year_and_month(data, "cohort date")


first_month


first_year


#To get the latest year and month

latest_month, latest_year = get_year_and_month(data, "InvoiceDate")


latest_month


latest_year






#Calculating the time difference in month between when the customer made the first purchase to when the customer make the current purchase

def create_cohort_index(first_month, first_year, latest_month, latest_year):
    year_diff = latest_year - first_year
    month_diff = latest_month - first_month
    index = year_diff*12 + month_diff + 1
    return index


data["cohort_index"] = create_cohort_index(first_month, first_year, latest_month, latest_year)
data





#Segment customer according to when they made their first purchase

cohort_info = data.groupby(["cohort date", "cohort_index"])["CustomerID"].nunique().reset_index()


#Replacing the CustomerID
cohort_info.rename(columns = {"CustomerID": "Number of customers"}, inplace = True)
cohort_info


#Creating Cohort Table

cohort_table = cohort_info.pivot(index= "cohort date", columns = ["cohort_index"], values= "Number of customers")
cohort_table.index = cohort_table.index.strftime("%B %Y")


cohort_table





plt.figure(figsize = (20,10))
sns.heatmap(cohort_table, annot=True, cmap= "Dark2_r", fmt= ".2f")


#Portraying the table in percentage

new_cohort_table = cohort_table.divide(cohort_table.iloc[:,0], axis= 0)
new_cohort_table


#ploting the graph 

plt.figure(figsize = (20,10))
sns.heatmap(new_cohort_table, annot=True, cmap= "Dark2_r", fmt= ".0%")





quantity_bought = data.groupby(["cohort date", "cohort_index"])["Quantity"].mean().reset_index()
quantity_bought


quantity_table = quantity_bought.pivot(index = "cohort date", columns = ["cohort_index"], values= "Quantity")
quantity_table.index = quantity_table.index.strftime("%B %Y")


quantity_table


#Creating Graph

plt.figure(figsize= (20,10))
sns.heatmap(quantity_table, annot= True, cmap= "Dark2_r", fmt= ".3f")









