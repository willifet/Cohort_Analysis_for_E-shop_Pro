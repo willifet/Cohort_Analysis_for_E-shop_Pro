


import pandas as pd
import matplotlib.pyplot as plt
import seaborn as sns
import datetime as dt
from sklearn.cluster import KMeans
from sklearn.metrics import silhouette_score
from sklearn.preprocessing import StandardScaler


data = pd.read_csv('../Data/Dataset_ecommerce.csv')
data.head(10)


data.info()


data.describe()


data.describe(include= 'O')


#Checking Missing data
data[data["CustomerID"].isna()].head(10)


data.isna().sum()


#Droping missing value in customerID
data = data.dropna(subset=["CustomerID"])


data["InvoiceDate"] = pd.to_datetime(data["InvoiceDate"])


data.info()


data.head()


#To know the length of data loss due to cleaning
len(data)





data["TotalPrice"] = data["UnitPrice"] * data["Quantity"]


data.head()


#Aggregating by grouping and computing into Recency,Frequency and monetary value

aggregated_data = data.groupby(by="CustomerID", as_index=False) \
    .agg(
        MonetaryValue=("TotalPrice", "sum"),
        Frequency=("InvoiceNo", "nunique"),
        LastInvoiceDate=("InvoiceDate", "max")
    )


aggregated_data.head(5)


#To get our Recency Feature
max_invoice_data = aggregated_data["LastInvoiceDate"].max()

max_invoice_data



#Recency measure in days

aggregated_data["Recency"] = (max_invoice_data - aggregated_data["LastInvoiceDate"]).dt.days
aggregated_data.head(5)


#Looking at the distribution of the features to see whether there are outliers in our dataset using Histogram

plt.figure(figsize=(10, 5))

plt.subplot(1, 3, 1)
plt.hist(aggregated_data["MonetaryValue"], bins=10, color='skyblue', edgecolor='black')
plt.xlabel("Monetary Value")
plt.ylabel('Count')
plt.title('Monetary Value Distribution')

plt.subplot(1, 3, 2)
plt.hist(aggregated_data["Frequency"], bins=10, color='lightgreen', edgecolor='black')
plt.xlabel("Frequency")
plt.ylabel('Count')
plt.title('Recency Distribution')

plt.subplot(1, 3, 3)
plt.hist(aggregated_data["Recency"], bins=10, color='salmon', edgecolor='black')
plt.xlabel("Recency")
plt.ylabel('Count')
plt.title('Monetary Value Distribution')

plt.tight_layout()
plt.show()



